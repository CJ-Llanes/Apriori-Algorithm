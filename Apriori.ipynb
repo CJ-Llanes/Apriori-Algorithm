{
 "cells": [
  {
   "cell_type": "code",
   "execution_count": 1,
   "metadata": {},
   "outputs": [],
   "source": [
    "import pandas as pd"
   ]
  },
  {
   "cell_type": "code",
   "execution_count": 2,
   "metadata": {},
   "outputs": [],
   "source": [
    "def apriori(List, minSup):\n",
    "    Counter = {}\n",
    "# Count the number of aparitions of the elements\n",
    "    for Arrays in List:\n",
    "        for Elements in Arrays:\n",
    "            if Elements in Counter:\n",
    "                Counter[Elements] += 1\n",
    "            else:\n",
    "                Counter[Elements] = 1\n",
    "#            print(Counter)\n",
    "\n",
    "    print (\"'Items':Frequency \\n\", Counter)\n",
    "# Return the keys of the dictionary\n",
    "    _items = Counter.keys()\n",
    "#    print(\"Items are     \",_items)\n",
    "# Add to the list items the keys of the dictionary    \n",
    "    items = []\n",
    "    for i in _items:\n",
    "        items.append([i])\n",
    "    print(\"\\n\\nItems:\\n\", items)\n",
    "\n",
    "# Select the frequent items, more than the minimum support.\n",
    "    FreqItems = []\n",
    "    for k in items[:]:\n",
    "        if Counter[k[0]] >= minSup:\n",
    "            FreqItems.append(k)\n",
    "    FreqItems.sort()\n",
    "    FreqElements=FreqItems\n",
    "    print (\"Frequent Items:\\n\", FreqItems)\n",
    "\n",
    "    all_lists = [] # Here will be added all the frequent lists\n",
    "    i=1\n",
    "# The cycle is going to stop until you get an empty list. You get an empty list when it tries to get a longer\n",
    "#   list that which in fact can exist.\n",
    "    while FreqItems != []:\n",
    "        Freq = Frequency(List, FreqItems)\n",
    "        FreqLists = del_no_freq(FreqItems, Freq, minSup)\n",
    "        for freqLists in FreqLists:\n",
    "            all_lists.append(freqLists)\n",
    "        print(\"\\nFrequent lists of \",i,\" elements: \",FreqLists)\n",
    "        i= i+1\n",
    "        FreqItems = combinations(FreqLists, FreqElements)\n",
    "    return all_lists"
   ]
  },
  {
   "cell_type": "markdown",
   "metadata": {},
   "source": [
    "### Calculate the frequency of the suggested lists"
   ]
  },
  {
   "cell_type": "code",
   "execution_count": 3,
   "metadata": {},
   "outputs": [],
   "source": [
    "# calculate the frequency of the lists\n",
    "def Frequency(List, FreqItems):\n",
    "    Freq = []\n",
    "    for key in FreqItems:\n",
    "        counter = 0\n",
    "        for arrays in List:\n",
    "            have = True\n",
    "            for elements in key:\n",
    "                if elements not in arrays:\n",
    "                    have = False\n",
    "            if have:\n",
    "                counter = counter+1\n",
    "        Freq.append(counter)\n",
    "#    print(\"\\nFreq is: \", Freq)\n",
    "    return Freq"
   ]
  },
  {
   "cell_type": "markdown",
   "metadata": {},
   "source": [
    "### Delete no frequent lists"
   ]
  },
  {
   "cell_type": "code",
   "execution_count": 4,
   "metadata": {},
   "outputs": [],
   "source": [
    "def del_no_freq(FreqItems, Freq, minSup):\n",
    "    for i, sets in enumerate(FreqItems):\n",
    "# i:    counter with the lenght of FreqItems\n",
    "# sets: sets in the FreqItems\n",
    "        if Freq[i] < minSup:\n",
    "            FreqItems.remove(sets)\n",
    "    return FreqItems\n"
   ]
  },
  {
   "cell_type": "markdown",
   "metadata": {},
   "source": [
    "## Create the combinations of lists with the before frequent lists\n",
    "### The suggested lists cannot be in the dataset"
   ]
  },
  {
   "cell_type": "code",
   "execution_count": 5,
   "metadata": {},
   "outputs": [],
   "source": [
    "def combinations(FreqLists, FreqElements):\n",
    "    print(\"\\nFrequent list: \", FreqLists)\n",
    "    Lists = []\n",
    "# Lists will keed all the suggested lists\n",
    "    for list1 in FreqLists:\n",
    "        for list2 in FreqLists:\n",
    "# It will not create any combination if both lists are the same\n",
    "            if list1 != list2:\n",
    "                sets = []\n",
    "# Here is created all the combinations for suggested lists\n",
    "# The creation of suggested lists does not depend of the existence in the original dataset,\n",
    "#   it depends of the possible combinations\n",
    "                for element in list1:\n",
    "                    if element not in sets:\n",
    "                        sets.append(element)\n",
    "                for element in list2:\n",
    "                    if element not in sets:\n",
    "                        sets.append(element)\n",
    "                sets.sort()\n",
    "# When the suggested list already exist in Lists, it will not be added.\n",
    "                if sets not in Lists:\n",
    "                    Lists.append(sets)\n",
    "#    print(\"Lists: \", Lists)\n",
    "    return Lists"
   ]
  },
  {
   "cell_type": "code",
   "execution_count": 6,
   "metadata": {},
   "outputs": [
    {
     "name": "stdout",
     "output_type": "stream",
     "text": [
      "There are:  6  transactions.\n",
      "Introduce the minimum support: 2\n",
      "\n",
      "\n",
      "\n",
      "\n",
      "   0  1\n",
      "0  a  b\n",
      "1  a  c\n",
      "2  a  d\n",
      "3  b  c\n",
      "4  b  e\n",
      "5  c  e \n",
      "\n",
      "\n",
      "'Items':Frequency \n",
      " {'a': 3, 'b': 3, 'c': 3, 'd': 1, 'e': 2}\n",
      "\n",
      "\n",
      "Items:\n",
      " [['a'], ['b'], ['c'], ['d'], ['e']]\n",
      "Frequent Items:\n",
      " [['a'], ['b'], ['c'], ['e']]\n",
      "\n",
      "Frequent lists of  1  elements:  [['a'], ['b'], ['c'], ['e']]\n",
      "\n",
      "Frequent list:  [['a'], ['b'], ['c'], ['e']]\n",
      "\n",
      "Frequent lists of  2  elements:  [['a', 'c'], ['b', 'c'], ['c', 'e']]\n",
      "\n",
      "Frequent list:  [['a', 'c'], ['b', 'c'], ['c', 'e']]\n",
      "\n",
      "Frequent lists of  3  elements:  [['a', 'c', 'e']]\n",
      "\n",
      "Frequent list:  [['a', 'c', 'e']]\n",
      "\n",
      "\n",
      "frequent itemsets:\n",
      "    0  1  2\n",
      "0  a      \n",
      "1  b      \n",
      "2  c      \n",
      "3  e      \n",
      "4  a  c   \n",
      "5  b  c   \n",
      "6  c  e   \n",
      "7  a  c  e\n"
     ]
    }
   ],
   "source": [
    "if __name__ == \"__main__\":\n",
    "    \n",
    "#    List = [['agua','cigarro','cerveza','pan'],\n",
    "#['frijol','durazno','pan','agua'],\n",
    "#['sal','agua','pimienta'],\n",
    "#['pimienta','cerveza'],\n",
    "#['sal', 'pimienta', 'agua', 'uvas'],\n",
    "#['durazno','agua','frijol','cigarro'],\n",
    "#['pan','agua','sal','frijol'],\n",
    "#['pimienta', 'sal','agua','frijol', 'uvas'],\n",
    "#['cigarro','durazno','cerveza', 'uvas','sal'], \n",
    "#['agua','frijol','pan','sal', 'uvas']]\n",
    "    List= [['a','b'],['a','c'],['a','d'],['b','c'],['b','e'],['c','e']]       \n",
    "    print(\"There are: \",len(List),\" transactions.\")\n",
    "    minSup=int(input(\"Introduce the minimum support: \"))\n",
    "    print(\"\\n\\n\\n\")\n",
    "    \n",
    "    df=pd.DataFrame(List)\n",
    "    df=df.fillna(\" \")\n",
    "    print (df, \"\\n\\n\")\n",
    "    \n",
    "    FreqSets = apriori(List, minSup)\n",
    "    df2=pd.DataFrame(FreqSets)\n",
    "    df2=df2.fillna(\" \")\n",
    "    print ('\\n\\nfrequent itemsets:\\n', df2)"
   ]
  },
  {
   "cell_type": "code",
   "execution_count": null,
   "metadata": {},
   "outputs": [],
   "source": []
  },
  {
   "cell_type": "code",
   "execution_count": null,
   "metadata": {},
   "outputs": [],
   "source": []
  },
  {
   "cell_type": "code",
   "execution_count": null,
   "metadata": {},
   "outputs": [],
   "source": []
  },
  {
   "cell_type": "code",
   "execution_count": null,
   "metadata": {},
   "outputs": [],
   "source": []
  },
  {
   "cell_type": "code",
   "execution_count": null,
   "metadata": {},
   "outputs": [],
   "source": []
  },
  {
   "cell_type": "code",
   "execution_count": null,
   "metadata": {},
   "outputs": [],
   "source": []
  },
  {
   "cell_type": "code",
   "execution_count": null,
   "metadata": {},
   "outputs": [],
   "source": []
  }
 ],
 "metadata": {
  "kernelspec": {
   "display_name": "Python 3",
   "language": "python",
   "name": "python3"
  },
  "language_info": {
   "codemirror_mode": {
    "name": "ipython",
    "version": 3
   },
   "file_extension": ".py",
   "mimetype": "text/x-python",
   "name": "python",
   "nbconvert_exporter": "python",
   "pygments_lexer": "ipython3",
   "version": "3.6.9"
  }
 },
 "nbformat": 4,
 "nbformat_minor": 4
}
